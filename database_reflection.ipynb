{
 "cells": [
  {
   "cell_type": "code",
   "execution_count": 1,
   "metadata": {},
   "outputs": [],
   "source": [
    "import sqlalchemy\n",
    "from sqlalchemy.ext.automap import automap_base\n",
    "from sqlalchemy.orm import Session\n",
    "from sqlalchemy import create_engine, func\n",
    "from sqlalchemy import Column, Integer, String, Float\n",
    "from sqlalchemy.ext.declarative import declarative_base"
   ]
  },
  {
   "cell_type": "code",
   "execution_count": 2,
   "metadata": {},
   "outputs": [
    {
     "name": "stderr",
     "output_type": "stream",
     "text": [
      "C:\\Users\\yixua\\AppData\\Local\\Temp\\ipykernel_94028\\3175397360.py:1: MovedIn20Warning: The ``declarative_base()`` function is now available as sqlalchemy.orm.declarative_base(). (deprecated since: 2.0) (Background on SQLAlchemy 2.0 at: https://sqlalche.me/e/b8d9)\n",
      "  Base = declarative_base()\n"
     ]
    }
   ],
   "source": [
    "Base = declarative_base()\n",
    "# Create engine using the `Production_waste.sqlite` database file\n",
    "engine = create_engine('sqlite:///Database/Production_waste.sqlite')\n",
    "Base.metadata.create_all(engine)"
   ]
  },
  {
   "cell_type": "code",
   "execution_count": 3,
   "metadata": {},
   "outputs": [
    {
     "data": {
      "text/plain": [
       "<sqlalchemy.orm.session.Session at 0x23ba995cb90>"
      ]
     },
     "execution_count": 3,
     "metadata": {},
     "output_type": "execute_result"
    }
   ],
   "source": [
    "session = Session(bind=engine)\n",
    "session"
   ]
  },
  {
   "cell_type": "code",
   "execution_count": 4,
   "metadata": {},
   "outputs": [],
   "source": [
    "class Production(Base):\n",
    "    __tablename__ = \"Production_waste\"\n",
    "    id =Column(Integer,primary_key=True)\n",
    "    State = Column(String)\n",
    "    Energy_Recovery= Column(Float)\n",
    "    Recycling= Column(Float) \n",
    "    Treatment= Column(Float) \n",
    "    Total_Releases=Column(Float)\n",
    "    Production_WSTE=Column(Float)\n",
    "    RecRcy =Column(Float)\n"
   ]
  },
  {
   "cell_type": "code",
   "execution_count": 5,
   "metadata": {},
   "outputs": [
    {
     "data": {
      "text/plain": [
       "FacadeDict({'Production_waste': Table('Production_waste', MetaData(), Column('id', Integer(), table=<Production_waste>, primary_key=True, nullable=False), Column('State', String(), table=<Production_waste>), Column('Energy_Recovery', Float(), table=<Production_waste>), Column('Recycling', Float(), table=<Production_waste>), Column('Treatment', Float(), table=<Production_waste>), Column('Total_Releases', Float(), table=<Production_waste>), Column('Production_WSTE', Float(), table=<Production_waste>), Column('RecRcy', Float(), table=<Production_waste>), schema=None)})"
      ]
     },
     "execution_count": 5,
     "metadata": {},
     "output_type": "execute_result"
    }
   ],
   "source": [
    "Base.metadata.tables"
   ]
  },
  {
   "cell_type": "code",
   "execution_count": 6,
   "metadata": {},
   "outputs": [
    {
     "data": {
      "text/plain": [
       "{'_sa_instance_state': <sqlalchemy.orm.state.InstanceState at 0x23baa63f110>,\n",
       " 'Treatment': 83982522.11,\n",
       " 'Recycling': 103271951.48,\n",
       " 'Production_WSTE': 319296762.01,\n",
       " 'id': 18,\n",
       " 'Energy_Recovery': 123240609.88,\n",
       " 'State': 'LA',\n",
       " 'Total_Releases': 8807921.290000001,\n",
       " 'RecRcy': 226512561.36}"
      ]
     },
     "execution_count": 6,
     "metadata": {},
     "output_type": "execute_result"
    }
   ],
   "source": [
    "t=session.query(Production).first()\n",
    "t.__dict__"
   ]
  },
  {
   "cell_type": "code",
   "execution_count": 7,
   "metadata": {},
   "outputs": [
    {
     "data": {
      "text/plain": [
       "[('LA', 319296762.01),\n",
       " ('TX', 310780392.94),\n",
       " ('PA', 115453783.44000001),\n",
       " ('UT', 81960035.22),\n",
       " ('KS', 81747414.25999999),\n",
       " ('CA', 76859634.09),\n",
       " ('OK', 60135833.39),\n",
       " ('OH', 54099607.94),\n",
       " ('MN', 52622013.650000006),\n",
       " ('MI', 50351138.53),\n",
       " ('DE', 35859859.6),\n",
       " ('IL', 29888788.419999998),\n",
       " ('AL', 28867691.740000002),\n",
       " ('MT', 23499655.41),\n",
       " ('IN', 18465332.47),\n",
       " ('WA', 15812272.65),\n",
       " ('TN', 9692934.38),\n",
       " ('NJ', 8839625.950000001),\n",
       " ('NM', 6738151.86),\n",
       " ('NV', 4335508.49),\n",
       " ('MS', 3954166.67),\n",
       " ('ND', 3234317.62),\n",
       " ('KY', 2993814.3),\n",
       " ('CO', 1493511.93),\n",
       " ('WY', 1441938.51),\n",
       " ('VA', 1326880.52),\n",
       " ('AR', 857774.2799999999),\n",
       " ('HI', 732653.37),\n",
       " ('WV', 660433.79),\n",
       " ('GA', 363198.01),\n",
       " ('NC', 158523.18),\n",
       " ('PR', 91789.0),\n",
       " ('AK', 66877.76),\n",
       " ('IA', 55747.11),\n",
       " ('MO', 49413.23),\n",
       " ('WI', 40553.69),\n",
       " ('OR', 23658.98),\n",
       " ('FL', 13400.85),\n",
       " ('AZ', 10797.92),\n",
       " ('MA', 8733.35),\n",
       " ('NY', 4203.26),\n",
       " ('NH', 2578.63),\n",
       " ('ID', 374.99),\n",
       " ('DC', 68.23),\n",
       " ('MD', 20.9),\n",
       " ('SC', 17.52),\n",
       " ('NE', 10.64),\n",
       " ('ME', 10.37),\n",
       " ('VI', 9.0),\n",
       " ('VT', 4.4),\n",
       " ('CT', 1.74)]"
      ]
     },
     "execution_count": 7,
     "metadata": {},
     "output_type": "execute_result"
    }
   ],
   "source": [
    "session.query(Production.State,Production.Production_WSTE).all()"
   ]
  }
 ],
 "metadata": {
  "kernelspec": {
   "display_name": "base",
   "language": "python",
   "name": "python3"
  },
  "language_info": {
   "codemirror_mode": {
    "name": "ipython",
    "version": 3
   },
   "file_extension": ".py",
   "mimetype": "text/x-python",
   "name": "python",
   "nbconvert_exporter": "python",
   "pygments_lexer": "ipython3",
   "version": "3.11.5"
  }
 },
 "nbformat": 4,
 "nbformat_minor": 2
}
